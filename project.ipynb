{
 "cells": [
  {
   "cell_type": "markdown",
   "metadata": {},
   "source": [
    "# Prepration 🍰"
   ]
  },
  {
   "cell_type": "code",
   "execution_count": 32,
   "metadata": {},
   "outputs": [],
   "source": [
    "# Main Libraires\n",
    "import pandas as pd\n",
    "import numpy as np\n",
    "import requests\n",
    "# Twitter API\n",
    "import tweepy\n",
    "import json\n",
    "# to read tsv file after downlading it using requests\n",
    "import io\n",
    "# .env for API keys\n",
    "from dotenv import load_dotenv\n",
    "import os"
   ]
  },
  {
   "cell_type": "code",
   "execution_count": 33,
   "metadata": {},
   "outputs": [],
   "source": [
    "# Reading twitter-archive-enhanced file\n",
    "tae = pd.read_csv(\"twitter-archive-enhanced.csv\")"
   ]
  },
  {
   "cell_type": "code",
   "execution_count": 34,
   "metadata": {},
   "outputs": [],
   "source": [
    "# the url of the image_predictions.tsv file\n",
    "image_predictions_url = \"https://d17h27t6h515a5.cloudfront.net/topher/2017/August/599fd2ad_image-predictions/image-predictions.tsv\"\n",
    "# import it in pandas\n",
    "image_predictions = requests.get(image_predictions_url)\n",
    "\n",
    "# Using IO library convert the tsv file to file like object to be able to read\n",
    "content = image_predictions.content.decode('utf-8')\n",
    "file_like_object = io.StringIO(content)"
   ]
  },
  {
   "cell_type": "code",
   "execution_count": 35,
   "metadata": {},
   "outputs": [],
   "source": [
    "# Reading the image_predictions.tsv file\n",
    "nlp = pd.read_csv(file_like_object, sep=\"\\t\")"
   ]
  },
  {
   "cell_type": "code",
   "execution_count": 36,
   "metadata": {},
   "outputs": [],
   "source": [
    "# twitter API auth\n",
    "consumer_key = os.getenv('consumer_key')\n",
    "consumer_secret = os.getenv('consumer_secret')\n",
    "access_token = os.getenv('access_token')\n",
    "access_secret = os.getenv('access_secret')\n",
    "\n",
    "auth = tweepy.OAuthHandler(consumer_key, consumer_secret)\n",
    "auth.set_access_token(access_token, access_secret)\n",
    "\n",
    "api = tweepy.API(auth)"
   ]
  }
 ],
 "metadata": {
  "kernelspec": {
   "display_name": "Python 3",
   "language": "python",
   "name": "python3"
  },
  "language_info": {
   "codemirror_mode": {
    "name": "ipython",
    "version": 3
   },
   "file_extension": ".py",
   "mimetype": "text/x-python",
   "name": "python",
   "nbconvert_exporter": "python",
   "pygments_lexer": "ipython3",
   "version": "3.11.4"
  }
 },
 "nbformat": 4,
 "nbformat_minor": 2
}
